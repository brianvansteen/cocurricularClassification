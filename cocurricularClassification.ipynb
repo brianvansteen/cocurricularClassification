{
 "cells": [
  {
   "cell_type": "markdown",
   "id": "a4cd7604-e923-4e33-a745-48c79c065765",
   "metadata": {},
   "source": [
    "# CM 3070 Final Project\n",
    "\n",
    "## CoCurricular Classification for University Advancement\n",
    "\n",
    "Brian Van Steen 210182781"
   ]
  },
  {
   "cell_type": "markdown",
   "id": "6fe00ea0-76b6-465b-8b62-d9c02a432019",
   "metadata": {},
   "source": [
    "## 1. Set Up"
   ]
  },
  {
   "cell_type": "markdown",
   "id": "dda98ccf-e36c-490a-9854-96682145f033",
   "metadata": {},
   "source": [
    "This project is built using Anaconda JupyterLab, and a dedicated virtual environment was built for this notebook.\n",
    "\n",
    "The following libraries were installed using pip in the virtual environment terminal:\n",
    "\n",
    "- NumPy\n",
    "- Pandas\n",
    "- Matplotlib\n",
    "- Seaborn\n",
    "- scikit-learn\n",
    "- jupyterlab-git\n",
    "- pyLDAvis\n",
    "- TensorFlow\n",
    "- openpyxl\n",
    "\n",
    "Each of these libraries can now be imported for use."
   ]
  },
  {
   "cell_type": "code",
   "execution_count": 1,
   "id": "67885d4b-2986-40d6-b808-4bc65ea1b9ba",
   "metadata": {},
   "outputs": [
    {
     "name": "stdout",
     "output_type": "stream",
     "text": [
      "WARNING:tensorflow:From C:\\Users\\bvans\\anaconda3\\envs\\NLTK\\lib\\site-packages\\keras\\src\\losses.py:2976: The name tf.losses.sparse_softmax_cross_entropy is deprecated. Please use tf.compat.v1.losses.sparse_softmax_cross_entropy instead.\n",
      "\n"
     ]
    }
   ],
   "source": [
    "# install all libraries\n",
    "\n",
    "import numpy as np # Python library for working with arrays\n",
    "import pandas as pd # Python library for data processing, working with CSV files\n",
    "import matplotlib.pyplot as plt # used for basic visualzations and graph creations\n",
    "%matplotlib inline\n",
    "import seaborn as sns # used for advanced visualizations and graph creations\n",
    "\n",
    "import nltk # import NLTK library for natural language processing\n",
    "import re # import regular expression library for text pre-processing\n",
    "import tokenization # import tokenization library\n",
    "\n",
    "from wordcloud import WordCloud\n",
    "\n",
    "from sklearn.model_selection import train_test_split # use for Splitting the data between training data and test data\n",
    "from sklearn.linear_model import LinearRegression # for creating the Linear Regression Model\n",
    "from sklearn.preprocessing import MinMaxScaler # for normalization\n",
    "from sklearn.preprocessing import PolynomialFeatures # for multivariate polynomial regression\n",
    "from sklearn.tree import DecisionTreeClassifier # for cross-validation\n",
    "from sklearn.linear_model import LogisticRegressionCV # logistic regression\n",
    "from sklearn.naive_bayes import MultinomialNB # Naive Bayes\n",
    "from xgboost import XGBClassifier\n",
    "from sklearn.preprocessing import LabelEncoder\n",
    "from sklearn.ensemble import RandomForestClassifier\n",
    "from sklearn.model_selection import GridSearchCV\n",
    "from sklearn.linear_model import RidgeClassifier\n",
    "from sklearn import metrics\n",
    "from sklearn.metrics import confusion_matrix, classification_report\n",
    "from sklearn.metrics import ConfusionMatrixDisplay\n",
    "from sklearn.pipeline import Pipeline\n",
    "from sklearn.linear_model import RidgeClassifier\n",
    "from sklearn.feature_extraction.text import CountVectorizer\n",
    "\n",
    "from sklearn.decomposition import LatentDirichletAllocation as LDA\n",
    "from sklearn.feature_extraction.text import CountVectorizer, TfidfVectorizer\n",
    "\n",
    "from sklearn.metrics import mean_squared_error # library for calculating metric\n",
    "from sklearn.metrics import r2_score # library for calculating metric\n",
    "from sklearn.metrics import accuracy_score\n",
    "\n",
    "import tensorflow as tf\n",
    "import keras\n",
    "from keras import layers\n",
    "\n",
    "import pyLDAvis\n",
    "import pyLDAvis.lda_model\n",
    "pyLDAvis.enable_notebook()\n",
    "\n",
    "import warnings\n",
    "warnings.filterwarnings('ignore')"
   ]
  },
  {
   "cell_type": "markdown",
   "id": "c55c0adc-c747-4b76-82fa-a58e40f98a4d",
   "metadata": {},
   "source": [
    "## 2. Dataset"
   ]
  },
  {
   "cell_type": "markdown",
   "id": "1d72f5b5-9173-4add-b922-dbe2d03f9b3c",
   "metadata": {},
   "source": [
    "To start, the co-curricular dataset will be imported.\n",
    "\n",
    "This dataset has been provided by a Canadian university, consisting of all students who completed a degree or are in the processing of completing a degree, and who participate in co-curricular activities."
   ]
  },
  {
   "cell_type": "code",
   "execution_count": null,
   "id": "be0b84a8-c581-44ea-a06f-415e0e356859",
   "metadata": {},
   "outputs": [],
   "source": []
  }
 ],
 "metadata": {
  "kernelspec": {
   "display_name": "Python 3 (ipykernel)",
   "language": "python",
   "name": "python3"
  },
  "language_info": {
   "codemirror_mode": {
    "name": "ipython",
    "version": 3
   },
   "file_extension": ".py",
   "mimetype": "text/x-python",
   "name": "python",
   "nbconvert_exporter": "python",
   "pygments_lexer": "ipython3",
   "version": "3.10.13"
  }
 },
 "nbformat": 4,
 "nbformat_minor": 5
}
