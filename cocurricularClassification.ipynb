{
 "cells": [
  {
   "cell_type": "markdown",
   "id": "b1402c16-9a23-43c2-9508-443e1de0aecc",
   "metadata": {},
   "source": [
    "# CoCurricular Classification"
   ]
  },
  {
   "cell_type": "code",
   "execution_count": null,
   "id": "8627227c-7471-4c77-8bd3-5e34ecd33362",
   "metadata": {},
   "outputs": [],
   "source": []
  }
 ],
 "metadata": {
  "kernelspec": {
   "display_name": "Python 3 (ipykernel)",
   "language": "python",
   "name": "python3"
  },
  "language_info": {
   "codemirror_mode": {
    "name": "ipython",
    "version": 3
   },
   "file_extension": ".py",
   "mimetype": "text/x-python",
   "name": "python",
   "nbconvert_exporter": "python",
   "pygments_lexer": "ipython3",
   "version": "3.10.13"
  }
 },
 "nbformat": 4,
 "nbformat_minor": 5
}
